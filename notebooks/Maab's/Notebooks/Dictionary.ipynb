{
 "cells": [
  {
   "cell_type": "markdown",
   "metadata": {},
   "source": [
    "# Feature Variables"
   ]
  },
  {
   "cell_type": "markdown",
   "metadata": {},
   "source": [
    "1. **Brain Connectivity Data**\n",
    "  - fMRI connectome matrices (~19,900 features)\n",
    "  - Brain region correlation values\n",
    "\n",
    "2. **Psychological Assessment Scores**\n",
    "  - Strength and Difficulties Questionnaire (SDQ) - 9 scores\n",
    "  - Measures of emotional problems, behavioral issues, hyperactivity, peer problems\n",
    "\n",
    "3. **Parenting Measures**\n",
    "  - Alabama Parenting Questionnaire (APQ) - 6 scores\n",
    "  - Parental discipline, involvement, monitoring styles\n",
    "\n",
    "4. **Clinical Measures**\n",
    "  - Handedness (Edinburgh Handedness Questionnaire)\n",
    "  - Color vision ability\n",
    "\n",
    "5. **Demographic Information**\n",
    "  - Enrollment year\n",
    "  - Study site location\n",
    "  - Child's ethnicity and race\n",
    "  - Parent's education level"
   ]
  },
  {
   "cell_type": "markdown",
   "metadata": {},
   "source": [
    "## Questionnaire Features\n",
    "\n",
    "### Strength and Difficulties Questionnaire (SDQ)\n",
    "\n",
    "| Feature | Format | Range | Example | Description |\n",
    "|---------|--------|-------|---------|-------------|\n",
    "| **SDQ_SDQ_Conduct_Problems** | Integer | 0-10 | 3 | Measures behavior issues like fighting, lying, disobedience. A score of 3 indicates moderate behavioral problems. |\n",
    "| **SDQ_SDQ_Difficulties_Total** | Integer | 0-40 | 17 | Overall score combining all problem areas. A score of 17 would indicate moderate overall difficulties. |\n",
    "| **SDQ_SDQ_Emotional_Problems** | Integer | 0-10 | 4 | Measures anxiety, worry, sadness. A score of 4 indicates some emotional challenges. |\n",
    "| **SDQ_SDQ_Externalizing** | Integer | 0-20 | 12 | Combines conduct problems and hyperactivity scores. A score of 12 suggests significant \"acting out\" behaviors. |\n",
    "| **SDQ_SDQ_Generating_Impact** | Integer | 0-10 | 5 | Measures how problems affect daily life. A score of 5 means these issues moderately impact the child's functioning. |\n",
    "| **SDQ_SDQ_Hyperactivity** | Integer | 0-10 | 8 | Measures restlessness, concentration issues, impulsivity. A score of 8 indicates high levels of hyperactive behavior. |\n",
    "| **SDQ_SDQ_Internalizing** | Integer | 0-20 | 7 | Combines emotional and peer problems. A score of 7 indicates moderate internal struggles. |\n",
    "| **SDQ_SDQ_Peer_Problems** | Integer | 0-10 | 3 | Measures friendship difficulties. A score of 3 suggests some challenges with peer relationships. |\n",
    "| **SDQ_SDQ_Prosocial** | Integer | 0-10 | 7 | Measures positive social behaviors. A score of 7 indicates good prosocial skills. |\n",
    "\n",
    "### Alabama Parenting Questionnaire (APQ)\n",
    "\n",
    "| Feature | Format | Range | Example | Description |\n",
    "|---------|--------|-------|---------|-------------|\n",
    "| **APQ_P_APQ_P_CP** | Integer | 0-12 | 4 | Corporal Punishment Score. A score of 4 indicates moderate use of physical discipline. |\n",
    "| **APQ_P_APQ_P_ID** | Integer | 0-28 | 13 | Inconsistent Discipline Score. A score of 13 suggests moderately inconsistent rule enforcement. |\n",
    "| **APQ_P_APQ_P_INV** | Integer | 0-50 | 40 | Involvement Score. A score of 40 indicates high parental engagement. |\n",
    "| **APQ_P_APQ_P_OPD** | Integer | 0-28 | 18 | Other Discipline Practices Score. A score of 18 indicates moderate use of alternative discipline approaches. |\n",
    "| **APQ_P_APQ_P_PM** | Integer | 0-37 | 16 | Poor Monitoring/Supervision Score. A score of 16 suggests moderate lack of parental oversight. |\n",
    "| **APQ_P_APQ_P_PP** | Integer | 0-30 | 25 | Positive Parenting Score. A score of 25 indicates strong use of positive reinforcement. |\n",
    "\n",
    "## Other Clinical Measures\n",
    "\n",
    "| Feature | Format | Range | Example | Description |\n",
    "|---------|--------|-------|---------|-------------|\n",
    "| **EHQ_EHQ_Total** | Float | -100 to +100 | 76.67 | Edinburgh Handedness score. A score of 76.67 indicates strong right-handedness. |\n",
    "| **ColorVision_CV_Score** | Integer | 0-14 | 14 | Color vision test score. A perfect score of 14 indicates normal color vision. |\n",
    "\n",
    "## Demographic Features\n",
    "\n",
    "| Feature | Format | Range | Example | Description |\n",
    "|---------|--------|-------|---------|-------------|\n",
    "| **Basic_Demos_Enroll_Year** | Integer | (Study years) | 2019 | Year participant joined the study. |\n",
    "| **Basic_Demos_Study_Site** | Categorical integer | Site-specific codes | 2 | Location code where the participant was tested. |\n",
    "| **PreInt_Demos_Fam_Child_Ethnicity** | Categorical integer | Ethnicity codes | 0 | The child's ethnic background (e.g., 0 = Not Hispanic or Latino). |\n",
    "| **PreInt_Demos_Fam_Child_Race** | Categorical integer | Race codes | 1 | The child's racial background (e.g., 1 = White). |\n",
    "| **Barratt_Barratt_P1_Edu** | Categorical integer | Education codes | 5 | Parent's education level (e.g., 5 = Bachelor's degree). |\n",
    "\n",
    "## Brain Connectivity Data (Connectome Features)\n",
    "\n",
    "| Feature | Format | Range | Example | Description |\n",
    "|---------|--------|-------|---------|-------------|\n",
    "| **0throw_1stcolumn** | Float | -1 to +1 | 0.327 | Correlation between brain regions 0 and 1. A value of 0.327 indicates moderate positive correlation. |\n",
    "| **5throw_8thcolumn** | Float | -1 to +1 | -0.156 | Correlation between brain regions 5 and 8. A value of -0.156 indicates weak negative correlation. |\n",
    "| **12throw_19thcolumn** | Float | -1 to +1 | 0.082 | Correlation between brain regions 12 and 19. A value of 0.082 indicates very weak positive correlation. |\n",
    "| **64throw_80thcolumn** | Float | -1 to +1 | 0.511 | Correlation between brain regions 64 and 80. A value of 0.511 indicates strong positive correlation. |\n",
    "| **98throw_112thcolumn** | Float | -1 to +1 | -0.372 | Correlation between brain regions 98 and 112. A value of -0.372 indicates moderate negative correlation. |\n",
    "\n",
    "## Data Patterns and Interpretation\n",
    "\n",
    "### SDQ Score Interpretation Examples:\n",
    "- A child with SDQ_SDQ_Hyperactivity = 8, SDQ_SDQ_Conduct_Problems = 5 likely shows significant ADHD symptoms\n",
    "- A child with SDQ_SDQ_Emotional_Problems = 7, SDQ_SDQ_Peer_Problems = 6 might be experiencing anxiety and social isolation\n",
    "\n",
    "### Connectome Interpretation Examples:\n",
    "- Strong positive correlation (0.7) between frontal and parietal regions might indicate good executive function\n",
    "- Negative correlation (-0.4) between amygdala and prefrontal regions could indicate emotional regulation difficulties\n",
    "\n",
    "### Parenting and ADHD Connection:\n",
    "- High APQ_P_APQ_P_ID (20) combined with high SDQ_SDQ_Hyperactivity (9) might suggest inconsistent discipline contributing to ADHD symptoms\n",
    "- High APQ_P_APQ_P_PP (27) might be associated with better behavioral outcomes even in children with ADHD\n"
   ]
  },
  {
   "cell_type": "markdown",
   "metadata": {},
   "source": [
    "# Load all the data from the input files\n",
    "1. Training Dataset : Merge the quantitative, categorical metadata files & solution data\n",
    "2. Training Dataset : Merge the quantitative, categorical metadata files"
   ]
  }
 ],
 "metadata": {
  "kernelspec": {
   "display_name": "venv2",
   "language": "python",
   "name": "venv2"
  },
  "language_info": {
   "codemirror_mode": {
    "name": "ipython",
    "version": 3
   },
   "file_extension": ".py",
   "mimetype": "text/x-python",
   "name": "python",
   "nbconvert_exporter": "python",
   "pygments_lexer": "ipython3",
   "version": "3.9.10"
  }
 },
 "nbformat": 4,
 "nbformat_minor": 2
}
